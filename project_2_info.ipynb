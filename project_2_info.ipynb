{
 "cells": [
  {
   "cell_type": "code",
   "execution_count": null,
   "metadata": {},
   "outputs": [],
   "source": []
  },
  {
   "attachments": {},
   "cell_type": "markdown",
   "metadata": {},
   "source": [
    "Все необходимые таблицы находятся в схеме public базы данных project_sql (именно эту базу вам необходимо указать в параметре dbname при подключении):\n",
    "\n",
    "![](pictures/SQL_pj2_2_1.png)"
   ]
  },
  {
   "attachments": {},
   "cell_type": "markdown",
   "metadata": {},
   "source": [
    "vacancies\n",
    "\n",
    "Таблица хранит в себе данные по вакансиям и содержит следующие столбцы:\n",
    "\n",
    "![](pictures/SQL_pj2_2_2.png)\n",
    "\n",
    "Зарплатная вилка — это верхняя и нижняя граница оплаты труда в рублях (зарплаты в других валютах уже переведены в рубли). Соискателям она показывает, в каком диапазоне компания готова платить сотруднику на этой должности."
   ]
  },
  {
   "attachments": {},
   "cell_type": "markdown",
   "metadata": {},
   "source": [
    "areas\n",
    "\n",
    "Таблица-справочник, которая хранит код города и его название.\n",
    "\n",
    "![](pictures/SQL_pj2_2_3.png)"
   ]
  },
  {
   "attachments": {},
   "cell_type": "markdown",
   "metadata": {},
   "source": [
    "employers\n",
    "\n",
    "Таблица-справочник со списком работодателей.\n",
    "\n",
    "![](pictures/SQL_pj2_2_4.png)"
   ]
  },
  {
   "attachments": {},
   "cell_type": "markdown",
   "metadata": {},
   "source": [
    "industries\n",
    "\n",
    "Таблица-справочник вариантов сфер деятельности работодателей.\n",
    "\n",
    "![](pictures/SQL_pj2_2_5.png)"
   ]
  },
  {
   "attachments": {},
   "cell_type": "markdown",
   "metadata": {},
   "source": [
    "employers_industries\n",
    "\n",
    "Дополнительная таблица, которая существует для организации связи между работодателями и сферами их деятельности.\n",
    "\n",
    "Эта таблица нужна нам, поскольку у одного работодателя может быть несколько сфер деятельности (или работодатели могут вовсе не указать их). Для удобства анализа необходимо хранить запись по каждой сфере каждого работодателя в отдельной строке таблицы.\n",
    "\n",
    "![](pictures/SQL_pj2_2_6.png)"
   ]
  }
 ],
 "metadata": {
  "kernelspec": {
   "display_name": "Python 3",
   "language": "python",
   "name": "python3"
  },
  "language_info": {
   "name": "python",
   "version": "3.11.0"
  },
  "orig_nbformat": 4,
  "vscode": {
   "interpreter": {
    "hash": "07fa51723cfdfdcfd96f4d831e9a58393b5ea734b6a2ccc6da0d746f7dd84b96"
   }
  }
 },
 "nbformat": 4,
 "nbformat_minor": 2
}
